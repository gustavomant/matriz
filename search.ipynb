{
  "nbformat": 4,
  "nbformat_minor": 0,
  "metadata": {
    "colab": {
      "provenance": [],
      "authorship_tag": "ABX9TyNUSVYmff4RZVv4PMIBAW0e",
      "include_colab_link": true
    },
    "kernelspec": {
      "name": "python3",
      "display_name": "Python 3"
    },
    "language_info": {
      "name": "python"
    }
  },
  "cells": [
    {
      "cell_type": "markdown",
      "metadata": {
        "id": "view-in-github",
        "colab_type": "text"
      },
      "source": [
        "<a href=\"https://colab.research.google.com/github/mantovan1/matriz-search/blob/main/busca_matrizes.ipynb\" target=\"_parent\"><img src=\"https://colab.research.google.com/assets/colab-badge.svg\" alt=\"Open In Colab\"/></a>"
      ]
    },
    {
      "cell_type": "markdown",
      "source": [
        "#  Resolução"
      ],
      "metadata": {
        "id": "2ulj6iVnho3B"
      }
    },
    {
      "cell_type": "markdown",
      "source": [
        "versão para matrizes 2 por 2"
      ],
      "metadata": {
        "id": "3Zy3Se6_i580"
      }
    },
    {
      "cell_type": "code",
      "source": [
        "def find(a, b):\n",
        "  list = []\n",
        "  for j in range(len(a) - 1):\n",
        "    for i in range(len(a[j]) - 1):\n",
        "      if a[j][i] == b[0][0] and a[j][i + 1] == b[0][1] and a[j + 1][i] == b[1][0] and a[j + 1][i + 1] == b[1][1]:\n",
        "        list.append([j, i])\n",
        "  return list"
      ],
      "metadata": {
        "id": "DrSsB9GbfTRI"
      },
      "execution_count": 32,
      "outputs": []
    },
    {
      "cell_type": "markdown",
      "source": [
        "versão para quaisquer matriz m por n"
      ],
      "metadata": {
        "id": "7PdaiBJkiuN_"
      }
    },
    {
      "cell_type": "code",
      "source": [
        "def find(a, b):\n",
        "    result = []\n",
        "    rows_a = len(a)\n",
        "    cols_a = len(a[0])\n",
        "    rows_b = len(b)\n",
        "    cols_b = len(b[0])\n",
        "\n",
        "    for j in range(rows_a - rows_b + 1):\n",
        "        for i in range(cols_a - cols_b + 1):\n",
        "            match = True\n",
        "            for r in range(rows_b):\n",
        "                for c in range(cols_b):\n",
        "                    if a[j+r][i+c] != b[r][c]:\n",
        "                        match = False\n",
        "                        break\n",
        "                if not match:\n",
        "                    break\n",
        "            if match:\n",
        "                result.append([j, i])\n",
        "\n",
        "    return result"
      ],
      "metadata": {
        "id": "M6r-vQRnipRo"
      },
      "execution_count": 30,
      "outputs": []
    },
    {
      "cell_type": "code",
      "execution_count": 31,
      "metadata": {
        "colab": {
          "base_uri": "https://localhost:8080/"
        },
        "id": "Xf2ZJd46aXUw",
        "outputId": "a5b257a1-4215-4e58-e550-22ad62063900"
      },
      "outputs": [
        {
          "output_type": "stream",
          "name": "stdout",
          "text": [
            "[[1, 1], [2, 2]]\n"
          ]
        }
      ],
      "source": [
        "a = [[1,2,3,4],[5,6,7,8],[8,7,6,7],[7,8,7,6]]\n",
        "b = [[6,7],[7,6]]\n",
        "list = find(a, b)\n",
        "print(list)"
      ]
    },
    {
      "cell_type": "markdown",
      "source": [
        "#Problema:\n",
        "Faça um programa que busca uma matriz dentro de uma outra matriz maior e retorna uma lista com todas as ocorrências.\n",
        "\n",
        "#Entrada:\n",
        "\n",
        "A primeira linha é um par de números inteiros que representa o tamanho em quantidade de linhas e colunas da matriz que será reazliada a busca (maior)\n",
        "\n",
        "As linhas subsequentes (quantidade de linhas definida no item acima) contém os valores desta matriz.\n",
        "\n",
        "Após a leitura da primeira matriz, o mesmo processo se repete para definir a segunda matriz (menor) que será utilizada como padrão de busca na matriz anterior, ou seja, uma linha com um par de inteiros contendo a quantiade de linhas e colunas seguido por linhas que representam os valores da respectiva matriz.\n",
        "\n",
        "Considere todos os números lidos como números inteiros.\n",
        "\n",
        "4 4 <br />\n",
        "1 2 3 4 <br />\n",
        "5 6 7 8 <br />\n",
        "8 7 6 7 <br />\n",
        "7 8 7 6 <br />\n",
        "2 2 <br />\n",
        "6 7 <br />\n",
        "7 6 <br />\n",
        "\n",
        "A linha acima gera duas matrizes. Chamaremos de matrizes A e B respectivamente, sendo:\n",
        "\n",
        "A = [[1,2,3,4],[5,6,7,8],[8,7,6,7][7,8,7,6]]\n",
        "B = [[6,7],[7,6]]\n",
        "\n",
        "#Saída:\n",
        "\n",
        "Uma lista contendo todas as ocorrências de B em A.\n",
        "\n",
        "No exemplo, a saída espera seria:\n",
        "\n",
        "[[1,1],[2,2]]\n",
        "\n",
        "Observação 1: A posição da ocorrência é definida como a posição B[0][0] em A.\n",
        "\n",
        "Observação 2: Use a função print(lista) para imprimir a saída.\n",
        "\n",
        "Observação 3: A lista será vazia se não houver ocorrências, ou seja, []."
      ],
      "metadata": {
        "id": "ddbfhp6fg6XQ"
      }
    }
  ]
}
